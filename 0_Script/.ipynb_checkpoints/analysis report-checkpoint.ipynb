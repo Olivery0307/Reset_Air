{
 "cells": [
  {
   "cell_type": "code",
   "execution_count": 1,
   "id": "9396bf8f",
   "metadata": {},
   "outputs": [],
   "source": [
    "import pandas as pd\n",
    "import numpy as np\n",
    "import math"
   ]
  },
  {
   "cell_type": "code",
   "execution_count": 75,
   "id": "6cb9d7ab",
   "metadata": {},
   "outputs": [
    {
     "data": {
      "text/html": [
       "<div>\n",
       "<style scoped>\n",
       "    .dataframe tbody tr th:only-of-type {\n",
       "        vertical-align: middle;\n",
       "    }\n",
       "\n",
       "    .dataframe tbody tr th {\n",
       "        vertical-align: top;\n",
       "    }\n",
       "\n",
       "    .dataframe thead th {\n",
       "        text-align: right;\n",
       "    }\n",
       "</style>\n",
       "<table border=\"1\" class=\"dataframe\">\n",
       "  <thead>\n",
       "    <tr style=\"text-align: right;\">\n",
       "      <th></th>\n",
       "      <th>datetime</th>\n",
       "      <th>reference_co2</th>\n",
       "      <th>Device1_co2</th>\n",
       "      <th>Device2_co2</th>\n",
       "      <th>Device3_co2</th>\n",
       "      <th>Device4_co2</th>\n",
       "      <th>Device5_co2</th>\n",
       "      <th>mean_co2</th>\n",
       "    </tr>\n",
       "  </thead>\n",
       "  <tbody>\n",
       "    <tr>\n",
       "      <th>0</th>\n",
       "      <td>2024-06-15 17:30:00</td>\n",
       "      <td>1646.0</td>\n",
       "      <td>1841.726667</td>\n",
       "      <td>1862.360000</td>\n",
       "      <td>1810.550000</td>\n",
       "      <td>1821.056667</td>\n",
       "      <td>1840.823333</td>\n",
       "      <td>1803.752778</td>\n",
       "    </tr>\n",
       "    <tr>\n",
       "      <th>1</th>\n",
       "      <td>2024-06-17 17:00:00</td>\n",
       "      <td>1897.0</td>\n",
       "      <td>2178.340000</td>\n",
       "      <td>2204.946667</td>\n",
       "      <td>2151.206667</td>\n",
       "      <td>2151.690000</td>\n",
       "      <td>2224.386667</td>\n",
       "      <td>2134.595000</td>\n",
       "    </tr>\n",
       "    <tr>\n",
       "      <th>2</th>\n",
       "      <td>2024-06-26 17:00:00</td>\n",
       "      <td>1404.0</td>\n",
       "      <td>1696.036667</td>\n",
       "      <td>1698.536667</td>\n",
       "      <td>1701.756667</td>\n",
       "      <td>1708.193333</td>\n",
       "      <td>1641.613333</td>\n",
       "      <td>1641.689444</td>\n",
       "    </tr>\n",
       "    <tr>\n",
       "      <th>3</th>\n",
       "      <td>2024-06-28 18:00:00</td>\n",
       "      <td>1838.0</td>\n",
       "      <td>1958.440000</td>\n",
       "      <td>1942.686667</td>\n",
       "      <td>1971.866667</td>\n",
       "      <td>1929.720000</td>\n",
       "      <td>1935.406667</td>\n",
       "      <td>1929.353333</td>\n",
       "    </tr>\n",
       "    <tr>\n",
       "      <th>4</th>\n",
       "      <td>2024-07-01 15:30:00</td>\n",
       "      <td>1864.0</td>\n",
       "      <td>2039.080000</td>\n",
       "      <td>2018.396667</td>\n",
       "      <td>2035.226667</td>\n",
       "      <td>2015.596667</td>\n",
       "      <td>2010.650000</td>\n",
       "      <td>1997.158333</td>\n",
       "    </tr>\n",
       "  </tbody>\n",
       "</table>\n",
       "</div>"
      ],
      "text/plain": [
       "              datetime  reference_co2  Device1_co2  Device2_co2  Device3_co2  \\\n",
       "0  2024-06-15 17:30:00         1646.0  1841.726667  1862.360000  1810.550000   \n",
       "1  2024-06-17 17:00:00         1897.0  2178.340000  2204.946667  2151.206667   \n",
       "2  2024-06-26 17:00:00         1404.0  1696.036667  1698.536667  1701.756667   \n",
       "3  2024-06-28 18:00:00         1838.0  1958.440000  1942.686667  1971.866667   \n",
       "4  2024-07-01 15:30:00         1864.0  2039.080000  2018.396667  2035.226667   \n",
       "\n",
       "   Device4_co2  Device5_co2     mean_co2  \n",
       "0  1821.056667  1840.823333  1803.752778  \n",
       "1  2151.690000  2224.386667  2134.595000  \n",
       "2  1708.193333  1641.613333  1641.689444  \n",
       "3  1929.720000  1935.406667  1929.353333  \n",
       "4  2015.596667  2010.650000  1997.158333  "
      ]
     },
     "execution_count": 75,
     "metadata": {},
     "output_type": "execute_result"
    }
   ],
   "source": [
    "co2_df = pd.read_csv(\"../1_Data/2_peak/co2_peak.csv\")\n",
    "tvoc_df = pd.read_csv(\"../1_Data/2_peak/tvoc_peak.csv\")\n",
    "pm2p5_df = pd.read_csv(\"../1_Data/2_peak/pm2p5_peak.csv\")\n",
    "temperature_df = pd.read_csv(\"../1_Data/2_peak/temp_peak.csv\")\n",
    "humidity_df = pd.read_csv(\"../1_Data/2_peak/humidity_peak.csv\")\n",
    "co2_df.head()"
   ]
  },
  {
   "cell_type": "code",
   "execution_count": 80,
   "id": "4f0b80a0",
   "metadata": {},
   "outputs": [],
   "source": [
    "params_dict = {\n",
    "    \"co2\": co2_df,\n",
    "    \"tvoc\": tvoc_df,\n",
    "    \"pm2p5\": pm2p5_df,\n",
    "    \"temperature\": temperature_df,\n",
    "    \"humidity\": humidity_df    \n",
    "}"
   ]
  },
  {
   "cell_type": "code",
   "execution_count": 77,
   "id": "e7cb25c1",
   "metadata": {},
   "outputs": [
    {
     "data": {
      "text/html": [
       "<div>\n",
       "<style scoped>\n",
       "    .dataframe tbody tr th:only-of-type {\n",
       "        vertical-align: middle;\n",
       "    }\n",
       "\n",
       "    .dataframe tbody tr th {\n",
       "        vertical-align: top;\n",
       "    }\n",
       "\n",
       "    .dataframe thead th {\n",
       "        text-align: right;\n",
       "    }\n",
       "</style>\n",
       "<table border=\"1\" class=\"dataframe\">\n",
       "  <thead>\n",
       "    <tr style=\"text-align: right;\">\n",
       "      <th></th>\n",
       "      <th>datetime</th>\n",
       "      <th>reference_co2</th>\n",
       "      <th>Device1_co2</th>\n",
       "      <th>Device2_co2</th>\n",
       "      <th>Device3_co2</th>\n",
       "      <th>Device4_co2</th>\n",
       "      <th>Device5_co2</th>\n",
       "      <th>mean_co2</th>\n",
       "    </tr>\n",
       "  </thead>\n",
       "  <tbody>\n",
       "    <tr>\n",
       "      <th>0</th>\n",
       "      <td>2024-06-15 17:30:00</td>\n",
       "      <td>1646.0</td>\n",
       "      <td>1841.726667</td>\n",
       "      <td>1862.36</td>\n",
       "      <td>1810.55</td>\n",
       "      <td>1821.056667</td>\n",
       "      <td>1840.823333</td>\n",
       "      <td>1803.752778</td>\n",
       "    </tr>\n",
       "  </tbody>\n",
       "</table>\n",
       "</div>"
      ],
      "text/plain": [
       "              datetime  reference_co2  Device1_co2  Device2_co2  Device3_co2  \\\n",
       "0  2024-06-15 17:30:00         1646.0  1841.726667      1862.36      1810.55   \n",
       "\n",
       "   Device4_co2  Device5_co2     mean_co2  \n",
       "0  1821.056667  1840.823333  1803.752778  "
      ]
     },
     "execution_count": 77,
     "metadata": {},
     "output_type": "execute_result"
    }
   ],
   "source": [
    "peak1 = co2_df.loc[0:0]\n",
    "peak1"
   ]
  },
  {
   "cell_type": "code",
   "execution_count": 78,
   "id": "6ddfa786",
   "metadata": {},
   "outputs": [
    {
     "data": {
      "text/plain": [
       "'2024-06-15 17:30:00'"
      ]
     },
     "execution_count": 78,
     "metadata": {},
     "output_type": "execute_result"
    }
   ],
   "source": [
    "peak1.iloc[0,0]"
   ]
  },
  {
   "cell_type": "code",
   "execution_count": 83,
   "id": "b584d01a",
   "metadata": {},
   "outputs": [],
   "source": [
    "def evaluate_result(param):\n",
    "    results = []\n",
    "    \n",
    "    if param == \"co2\":\n",
    "        low = 400\n",
    "        mid = 2000\n",
    "        high = 5000\n",
    "        error_percent_1 = 0.03\n",
    "        error_percent_2 = 0.05\n",
    "        error_number = 50\n",
    "        \n",
    "        \n",
    "    elif param == \"tvoc\":\n",
    "        low = 65\n",
    "        mid = 440\n",
    "        high = 2180\n",
    "        error_percent_1 = 0.15\n",
    "        error_percent_2 = 0.20\n",
    "        error_number = 8.7\n",
    "        \n",
    "    elif param == \"pm2p5\":\n",
    "        low = 0\n",
    "        mid = 150\n",
    "        high = 500\n",
    "        error_percent_1 = 0.15\n",
    "        error_percent_2 = 0.20\n",
    "        error_number = 5\n",
    "        \n",
    "\n",
    "        \n",
    "    for i in range(2, 7):\n",
    "        \n",
    "        value = peak1.iloc[0, i]\n",
    "        mean_co2 = peak1['mean_co2'].iloc[0]  # Assuming mean_co2 is a single value\n",
    "\n",
    "        if low <= value <= mid:\n",
    "            if mean_co2 * (1-error_percent_1) - error_number <= value <= mean_co2 * (1+error_percent_1) + error_number:\n",
    "                results.append(\"Pass\")\n",
    "            else:\n",
    "                results.append(\"Fail\")\n",
    "        elif mid < value <= high:\n",
    "            if mean_co2 * (1-error_percent_2) - error_number <= value <= mean_co2 * (1+error_percent_2) + error_number:\n",
    "                results.append(\"Pass\")\n",
    "            else:\n",
    "                results.append(\"Fail\")\n",
    "        \n",
    "        "
   ]
  },
  {
   "cell_type": "code",
   "execution_count": 84,
   "id": "38c73891",
   "metadata": {},
   "outputs": [
    {
     "data": {
      "text/html": [
       "<div>\n",
       "<style scoped>\n",
       "    .dataframe tbody tr th:only-of-type {\n",
       "        vertical-align: middle;\n",
       "    }\n",
       "\n",
       "    .dataframe tbody tr th {\n",
       "        vertical-align: top;\n",
       "    }\n",
       "\n",
       "    .dataframe thead th {\n",
       "        text-align: right;\n",
       "    }\n",
       "</style>\n",
       "<table border=\"1\" class=\"dataframe\">\n",
       "  <thead>\n",
       "    <tr style=\"text-align: right;\">\n",
       "      <th></th>\n",
       "      <th>datetime</th>\n",
       "      <th>reference_co2</th>\n",
       "      <th>Device1_co2</th>\n",
       "      <th>Device2_co2</th>\n",
       "      <th>Device3_co2</th>\n",
       "      <th>Device4_co2</th>\n",
       "      <th>Device5_co2</th>\n",
       "      <th>mean_co2</th>\n",
       "    </tr>\n",
       "  </thead>\n",
       "  <tbody>\n",
       "    <tr>\n",
       "      <th>0</th>\n",
       "      <td>2024-06-15 17:30:00</td>\n",
       "      <td>1646.0</td>\n",
       "      <td>1841.726667</td>\n",
       "      <td>1862.36</td>\n",
       "      <td>1810.55</td>\n",
       "      <td>1821.056667</td>\n",
       "      <td>1840.823333</td>\n",
       "      <td>1803.752778</td>\n",
       "    </tr>\n",
       "  </tbody>\n",
       "</table>\n",
       "</div>"
      ],
      "text/plain": [
       "              datetime  reference_co2  Device1_co2  Device2_co2  Device3_co2  \\\n",
       "0  2024-06-15 17:30:00         1646.0  1841.726667      1862.36      1810.55   \n",
       "\n",
       "   Device4_co2  Device5_co2     mean_co2  \n",
       "0  1821.056667  1840.823333  1803.752778  "
      ]
     },
     "execution_count": 84,
     "metadata": {},
     "output_type": "execute_result"
    }
   ],
   "source": [
    "evaluate_result(\"co2\")\n",
    "\n",
    "#     elif param == \"temperature\":\n",
    "#         first_braket_lower = 400\n",
    "#         first_braket_higher = 2000\n",
    "        \n",
    "#     elif param == \"humidity\":\n",
    "#         first_braket_lower = 400\n",
    "#         first_braket_higher = 2000"
   ]
  },
  {
   "cell_type": "code",
   "execution_count": 60,
   "id": "ff378f59",
   "metadata": {},
   "outputs": [
    {
     "name": "stdout",
     "output_type": "stream",
     "text": [
      "['Pass', 'Pass', 'Pass', 'Pass', 'Pass']\n"
     ]
    }
   ],
   "source": [
    "results = []\n",
    "\n",
    "for i in range(2, 7):\n",
    "    value = peak1.iloc[0, i]\n",
    "    mean_co2 = peak1['mean_co2'].iloc[0]  # Assuming mean_co2 is a single value\n",
    "\n",
    "    if 400 <= value <= 2000:\n",
    "        if mean_co2 * 0.97 - 50 <= value <= mean_co2 * 1.03 + 50:\n",
    "            results.append(\"Pass\")\n",
    "        else:\n",
    "            results.append(\"Fail\")\n",
    "    elif 2000 < value <= 4000:\n",
    "        if mean_co2 * 0.95 - 50 <= value <= mean_co2 * 1.05 + 50:\n",
    "            results.append(\"Pass\")\n",
    "        else:\n",
    "            results.append(\"Fail\")\n",
    "\n",
    "print(results)"
   ]
  },
  {
   "cell_type": "code",
   "execution_count": 61,
   "id": "90b4e384",
   "metadata": {},
   "outputs": [
    {
     "data": {
      "text/html": [
       "<div>\n",
       "<style scoped>\n",
       "    .dataframe tbody tr th:only-of-type {\n",
       "        vertical-align: middle;\n",
       "    }\n",
       "\n",
       "    .dataframe tbody tr th {\n",
       "        vertical-align: top;\n",
       "    }\n",
       "\n",
       "    .dataframe thead th {\n",
       "        text-align: right;\n",
       "    }\n",
       "</style>\n",
       "<table border=\"1\" class=\"dataframe\">\n",
       "  <thead>\n",
       "    <tr style=\"text-align: right;\">\n",
       "      <th></th>\n",
       "      <th>Device1_co2</th>\n",
       "      <th>Device2_co2</th>\n",
       "      <th>Device3_co2</th>\n",
       "      <th>Device4_co2</th>\n",
       "      <th>Device5_co2</th>\n",
       "    </tr>\n",
       "  </thead>\n",
       "  <tbody>\n",
       "    <tr>\n",
       "      <th>0</th>\n",
       "      <td>1841.726667</td>\n",
       "      <td>1862.36</td>\n",
       "      <td>1810.55</td>\n",
       "      <td>1821.056667</td>\n",
       "      <td>1840.823333</td>\n",
       "    </tr>\n",
       "    <tr>\n",
       "      <th>1</th>\n",
       "      <td>Pass</td>\n",
       "      <td>Pass</td>\n",
       "      <td>Pass</td>\n",
       "      <td>Pass</td>\n",
       "      <td>Pass</td>\n",
       "    </tr>\n",
       "  </tbody>\n",
       "</table>\n",
       "</div>"
      ],
      "text/plain": [
       "   Device1_co2 Device2_co2 Device3_co2  Device4_co2  Device5_co2\n",
       "0  1841.726667     1862.36     1810.55  1821.056667  1840.823333\n",
       "1         Pass        Pass        Pass         Pass         Pass"
      ]
     },
     "execution_count": 61,
     "metadata": {},
     "output_type": "execute_result"
    }
   ],
   "source": [
    "peak1 = peak1.drop([\"datetime\",\"reference_co2\",\"mean_co2\"],axis = 1)\n",
    "peak1.loc[len(peak1)] = results\n",
    "peak1"
   ]
  },
  {
   "cell_type": "code",
   "execution_count": null,
   "id": "e7a61e4a",
   "metadata": {},
   "outputs": [],
   "source": [
    "#=IF(AND($C3+50+($C3*0.03)>=D3,$C3-50-($C3*0.03)<=D3),\"PASS\",\"FAIL\")"
   ]
  }
 ],
 "metadata": {
  "kernelspec": {
   "display_name": "Python 3 (ipykernel)",
   "language": "python",
   "name": "python3"
  },
  "language_info": {
   "codemirror_mode": {
    "name": "ipython",
    "version": 3
   },
   "file_extension": ".py",
   "mimetype": "text/x-python",
   "name": "python",
   "nbconvert_exporter": "python",
   "pygments_lexer": "ipython3",
   "version": "3.11.4"
  }
 },
 "nbformat": 4,
 "nbformat_minor": 5
}
